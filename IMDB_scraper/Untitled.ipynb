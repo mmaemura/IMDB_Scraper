{
 "cells": [
  {
   "cell_type": "code",
   "execution_count": 208,
   "id": "3c3314ce",
   "metadata": {},
   "outputs": [],
   "source": [
    "import pandas as pd\n",
    "from matplotlib import pyplot as plt"
   ]
  },
  {
   "cell_type": "code",
   "execution_count": 27,
   "id": "eb07d247",
   "metadata": {},
   "outputs": [],
   "source": [
    "pd.options.display.max_colwidth = 50"
   ]
  },
  {
   "cell_type": "code",
   "execution_count": 205,
   "id": "40ee5ee6",
   "metadata": {},
   "outputs": [
    {
     "data": {
      "text/html": [
       "<div>\n",
       "<style scoped>\n",
       "    .dataframe tbody tr th:only-of-type {\n",
       "        vertical-align: middle;\n",
       "    }\n",
       "\n",
       "    .dataframe tbody tr th {\n",
       "        vertical-align: top;\n",
       "    }\n",
       "\n",
       "    .dataframe thead th {\n",
       "        text-align: right;\n",
       "    }\n",
       "</style>\n",
       "<table border=\"1\" class=\"dataframe\">\n",
       "  <thead>\n",
       "    <tr style=\"text-align: right;\">\n",
       "      <th></th>\n",
       "      <th>actor</th>\n",
       "      <th>name</th>\n",
       "    </tr>\n",
       "  </thead>\n",
       "  <tbody>\n",
       "    <tr>\n",
       "      <th>0</th>\n",
       "      <td>Owen Wilson</td>\n",
       "      <td>Haunted Mansion,Secret Headquarters,Paint,Marr...</td>\n",
       "    </tr>\n",
       "    <tr>\n",
       "      <th>1</th>\n",
       "      <td>Craig Good</td>\n",
       "      <td>White Rabbit,Has Been,Cars,Toy Story</td>\n",
       "    </tr>\n",
       "    <tr>\n",
       "      <th>2</th>\n",
       "      <td>Brian Fee</td>\n",
       "      <td>Tracy,Cars</td>\n",
       "    </tr>\n",
       "    <tr>\n",
       "      <th>3</th>\n",
       "      <td>Kathy Coates</td>\n",
       "      <td>Cars</td>\n",
       "    </tr>\n",
       "    <tr>\n",
       "      <th>4</th>\n",
       "      <td>Teresa Ganzel</td>\n",
       "      <td>The Push,Home Economics,A Beauty &amp; The Beast C...</td>\n",
       "    </tr>\n",
       "  </tbody>\n",
       "</table>\n",
       "</div>"
      ],
      "text/plain": [
       "           actor                                               name\n",
       "0    Owen Wilson  Haunted Mansion,Secret Headquarters,Paint,Marr...\n",
       "1     Craig Good               White Rabbit,Has Been,Cars,Toy Story\n",
       "2      Brian Fee                                         Tracy,Cars\n",
       "3   Kathy Coates                                               Cars\n",
       "4  Teresa Ganzel  The Push,Home Economics,A Beauty & The Beast C..."
      ]
     },
     "execution_count": 205,
     "metadata": {},
     "output_type": "execute_result"
    }
   ],
   "source": [
    "results = pd.read_csv(\"results.csv\")\n",
    "results = results.rename(columns = {'movie_or_TV_name' : 'name'})\n",
    "results.head()"
   ]
  },
  {
   "cell_type": "code",
   "execution_count": 151,
   "id": "3ce78d19",
   "metadata": {},
   "outputs": [
    {
     "data": {
      "text/plain": [
       "172"
      ]
     },
     "execution_count": 151,
     "metadata": {},
     "output_type": "execute_result"
    }
   ],
   "source": [
    "results.size"
   ]
  },
  {
   "cell_type": "code",
   "execution_count": 199,
   "id": "4f9847f0",
   "metadata": {},
   "outputs": [],
   "source": [
    "def get_sorted_df(df):\n",
    "    df['name'] = df[['name']].apply(lambda x: x.str.split(','))\n",
    "    \n",
    "    counts = {}\n",
    "    for index, row in df.iterrows():\n",
    "        for name in row['name']:\n",
    "            if name in counts:\n",
    "                counts.update({name: counts[name] + 1})\n",
    "            else:\n",
    "                counts.update({name: 1})\n",
    "                \n",
    "                \n",
    "    sorted_keys = sorted(counts, key = counts.get, reverse = True)\n",
    "    sorted_counts = {}\n",
    "    for name in sorted_keys:\n",
    "        sorted_counts[name] = counts[name]\n",
    "        \n",
    "    return pd.DataFrame({'name' : sorted_counts.keys(),\n",
    "                        'number of shared actors' : sorted_counts.values()})"
   ]
  },
  {
   "cell_type": "code",
   "execution_count": 206,
   "id": "74f6f38c",
   "metadata": {},
   "outputs": [],
   "source": [
    "sorted_df = get_sorted_df(results)"
   ]
  },
  {
   "cell_type": "code",
   "execution_count": 203,
   "id": "15d69934",
   "metadata": {},
   "outputs": [
    {
     "data": {
      "text/html": [
       "<div>\n",
       "<style scoped>\n",
       "    .dataframe tbody tr th:only-of-type {\n",
       "        vertical-align: middle;\n",
       "    }\n",
       "\n",
       "    .dataframe tbody tr th {\n",
       "        vertical-align: top;\n",
       "    }\n",
       "\n",
       "    .dataframe thead th {\n",
       "        text-align: right;\n",
       "    }\n",
       "</style>\n",
       "<table border=\"1\" class=\"dataframe\">\n",
       "  <thead>\n",
       "    <tr style=\"text-align: right;\">\n",
       "      <th></th>\n",
       "      <th>name</th>\n",
       "      <th>number of shared actors</th>\n",
       "    </tr>\n",
       "  </thead>\n",
       "  <tbody>\n",
       "    <tr>\n",
       "      <th>0</th>\n",
       "      <td>Cars</td>\n",
       "      <td>110</td>\n",
       "    </tr>\n",
       "    <tr>\n",
       "      <th>1</th>\n",
       "      <td>A Bug's Life</td>\n",
       "      <td>25</td>\n",
       "    </tr>\n",
       "    <tr>\n",
       "      <th>2</th>\n",
       "      <td>Monsters University</td>\n",
       "      <td>24</td>\n",
       "    </tr>\n",
       "    <tr>\n",
       "      <th>3</th>\n",
       "      <td>Monsters Inc.</td>\n",
       "      <td>23</td>\n",
       "    </tr>\n",
       "    <tr>\n",
       "      <th>4</th>\n",
       "      <td>Mater's Tall Tales</td>\n",
       "      <td>23</td>\n",
       "    </tr>\n",
       "    <tr>\n",
       "      <th>5</th>\n",
       "      <td>Toy Story 3</td>\n",
       "      <td>20</td>\n",
       "    </tr>\n",
       "    <tr>\n",
       "      <th>6</th>\n",
       "      <td>Cars 3</td>\n",
       "      <td>19</td>\n",
       "    </tr>\n",
       "    <tr>\n",
       "      <th>7</th>\n",
       "      <td>Tales from Radiator Springs</td>\n",
       "      <td>17</td>\n",
       "    </tr>\n",
       "    <tr>\n",
       "      <th>8</th>\n",
       "      <td>Cars 2</td>\n",
       "      <td>17</td>\n",
       "    </tr>\n",
       "    <tr>\n",
       "      <th>9</th>\n",
       "      <td>WALL·E</td>\n",
       "      <td>17</td>\n",
       "    </tr>\n",
       "  </tbody>\n",
       "</table>\n",
       "</div>"
      ],
      "text/plain": [
       "                          name  number of shared actors\n",
       "0                         Cars                      110\n",
       "1                 A Bug's Life                       25\n",
       "2          Monsters University                       24\n",
       "3                Monsters Inc.                       23\n",
       "4           Mater's Tall Tales                       23\n",
       "5                  Toy Story 3                       20\n",
       "6                       Cars 3                       19\n",
       "7  Tales from Radiator Springs                       17\n",
       "8                       Cars 2                       17\n",
       "9                       WALL·E                       17"
      ]
     },
     "execution_count": 203,
     "metadata": {},
     "output_type": "execute_result"
    }
   ],
   "source": [
    "sorted_df.head(10)"
   ]
  },
  {
   "cell_type": "code",
   "execution_count": null,
   "id": "b21ba9a6",
   "metadata": {},
   "outputs": [],
   "source": []
  }
 ],
 "metadata": {
  "kernelspec": {
   "display_name": "Python [conda env:PIC16B] *",
   "language": "python",
   "name": "conda-env-PIC16B-py"
  },
  "language_info": {
   "codemirror_mode": {
    "name": "ipython",
    "version": 3
   },
   "file_extension": ".py",
   "mimetype": "text/x-python",
   "name": "python",
   "nbconvert_exporter": "python",
   "pygments_lexer": "ipython3",
   "version": "3.8.12"
  }
 },
 "nbformat": 4,
 "nbformat_minor": 5
}
